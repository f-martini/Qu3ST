{
 "cells": [
  {
   "cell_type": "markdown",
   "id": "3f614f327b35c746",
   "metadata": {
    "collapsed": false
   },
   "source": [
    "# Optimizers"
   ]
  },
  {
   "cell_type": "code",
   "execution_count": 1,
   "id": "bb4f14bd97b8c554",
   "metadata": {
    "ExecuteTime": {
     "end_time": "2024-09-07T20:04:05.173227800Z",
     "start_time": "2024-09-07T20:04:05.150179400Z"
    },
    "collapsed": false
   },
   "outputs": [],
   "source": [
    "import pathlib\n",
    "import numpy as np\n",
    "from qu3st.nts_solver import NTSSolver\n",
    "from qu3st.optimizers.classical.cplex.objective_function import get_weights\n",
    "\n",
    "root_path = pathlib.Path()"
   ]
  },
  {
   "cell_type": "code",
   "execution_count": 2,
   "id": "28d3d4393a62bb0b",
   "metadata": {
    "ExecuteTime": {
     "end_time": "2024-09-07T20:04:05.652952700Z",
     "start_time": "2024-09-07T20:04:05.625687200Z"
    },
    "collapsed": false
   },
   "outputs": [],
   "source": [
    "def print_summary(result):\n",
    "    print(f'CANDIDATE SOLUTION:')\n",
    "    print(f\"Settled transactions:\\n\"\n",
    "          f\"{result.transactions}\")\n",
    "    print(f\"Collateral Usage:\\n\"\n",
    "          f\"{result.collateral}\")\n",
    "    print(f\"Cash balance indicators:\\n\"\n",
    "          f\"{result.cb_indicators}\")\n",
    "    print(f\"CMB-security-position links indicators:\\n\"\n",
    "          f\"{result.spl_indicators}\")\n",
    "    print(f\"Payoff: {result.evaluation}\")\n",
    "    print(f\"Time elapsed: {result.runtime} sec.\")\n",
    "    print()\n",
    "\n",
    "\n",
    "def check_validity(solution, model, instance):\n",
    "    # retrieve solution values\n",
    "    transactions = solution.transactions\n",
    "    collateral = solution.collateral\n",
    "    cb_indicators = solution.cb_indicators\n",
    "    spl_indicators = solution.spl_indicators\n",
    "\n",
    "    # generate new cplex solution according to the retrieved values\n",
    "    possible_mp_solution = model.new_solution()\n",
    "    indicators = np.concatenate((transactions, spl_indicators, cb_indicators))\n",
    "\n",
    "    for i, v in enumerate(model.iter_binary_vars()):\n",
    "        possible_mp_solution.add_var_value(v, indicators[i])\n",
    "        # print(f\"{v}: {indicators[i]}\", end=\" \")\n",
    "\n",
    "    for i, v in enumerate(model.iter_integer_vars()):\n",
    "        possible_mp_solution.add_var_value(v, collateral[i])\n",
    "        # print(f\"{v}: {collateral[i]}\", end=\" \")\n",
    "\n",
    "    # print validity-check summary\n",
    "    print()\n",
    "    print(\"Unsatisfied constraints:\")\n",
    "    print(possible_mp_solution.find_unsatisfied_constraints(model))\n",
    "    print(\"Is it a valid solution?\")\n",
    "    print(possible_mp_solution.is_valid_solution())\n",
    "    print(\"Cplex payoff:\")\n",
    "    weights = get_weights(instance, lam=0.5)\n",
    "    print(np.sum(weights * solution.transactions))"
   ]
  },
  {
   "cell_type": "code",
   "execution_count": 3,
   "id": "d4824a44bf0a977c",
   "metadata": {
    "ExecuteTime": {
     "end_time": "2024-09-07T20:29:43.252775800Z",
     "start_time": "2024-09-07T20:29:43.237776600Z"
    },
    "collapsed": false
   },
   "outputs": [],
   "source": [
    "# load an instance (base data root: modules/ntsp/data):\n",
    "# f = \"2024-05-05_15-26-01/5_0_TFT.json\"\n",
    "f = \"data/gs_5.json\""
   ]
  },
  {
   "cell_type": "markdown",
   "id": "8be7d7168b727bfb",
   "metadata": {
    "collapsed": false
   },
   "source": [
    "## Classical"
   ]
  },
  {
   "cell_type": "markdown",
   "id": "6ccf16c5f16eeb6f",
   "metadata": {
    "collapsed": false
   },
   "source": [
    "### CPLEX"
   ]
  },
  {
   "cell_type": "code",
   "execution_count": 4,
   "id": "52c81d4bebc9d065",
   "metadata": {
    "ExecuteTime": {
     "end_time": "2024-09-07T21:00:33.753746500Z",
     "start_time": "2024-09-07T21:00:33.703412700Z"
    },
    "collapsed": false
   },
   "outputs": [
    {
     "name": "stdout",
     "output_type": "stream",
     "text": [
      "Results and logs for this run will be stored in:\n",
      "\ttemp\\classical_2025-06-22_11-45-53\n",
      "\n",
      "-- cannot find parameters matching version: 22.1.2.0, using: 22.1.1.0\n",
      "CANDIDATE SOLUTION:\n",
      "Settled transactions:\n",
      "[0 1 1 1 1]\n",
      "Collateral Usage:\n",
      "[]\n",
      "Cash balance indicators:\n",
      "[0 0 0 0 0]\n",
      "CMB-security-position links indicators:\n",
      "[]\n",
      "Payoff: 2.0326510892392888e-08\n",
      "Time elapsed: 0.0 sec.\n",
      "\n",
      "Solution Status: INTEGER OPTIMAL SOLUTION - Relative Gap: 0.0\n",
      "\n",
      "Unsatisfied constraints:\n",
      "[]\n",
      "Is it a valid solution?\n",
      "True\n",
      "Cplex payoff:\n",
      "2.0326510892392888e-08\n"
     ]
    }
   ],
   "source": [
    "# initialize cplex configuration\n",
    "config = {\n",
    "    \"ntsp\": {\n",
    "        \"res_path\": str(root_path / \"temp\"),\n",
    "        \"sanitize\": True\n",
    "    },\n",
    "    \"solver\": {\n",
    "        \"lam\": 0.5,\n",
    "        \"opt_mode\": \"CPLEX\",\n",
    "        \"opt_options\": {\n",
    "            \"verbose\": True,\n",
    "            \"collateral\": True\n",
    "        },\n",
    "    }\n",
    "}\n",
    "\n",
    "# initialize solver and compute solution\n",
    "x = NTSSolver(mode=\"json\", optimizer=\"classical\", **config[\"ntsp\"])\n",
    "cplex_solution = x.optimize(data=f, **config[\"solver\"])\n",
    "\n",
    "# optimization summary\n",
    "print_summary(cplex_solution)\n",
    "print(\n",
    "    f\"Solution Status: {cplex_solution.custom_params['details'].status.upper()}\"\n",
    "    f\" - Relative Gap:\"\n",
    "    f\" {cplex_solution.custom_params['details'].mip_relative_gap}\")\n",
    "\n",
    "# initialize ground-truth and auto-check cplex solution\n",
    "cplex_model = cplex_solution.model.model\n",
    "instance = cplex_solution.model.instance\n",
    "check_validity(solution=cplex_solution, model=cplex_model, instance=instance)"
   ]
  },
  {
   "cell_type": "markdown",
   "id": "bc64689e2bc975b9",
   "metadata": {
    "collapsed": false
   },
   "source": [
    "## Quantum"
   ]
  },
  {
   "cell_type": "markdown",
   "id": "e9883ed973b5f61b",
   "metadata": {
    "collapsed": false
   },
   "source": [
    "### QTSA"
   ]
  },
  {
   "cell_type": "code",
   "execution_count": 5,
   "id": "df42e324649a9b28",
   "metadata": {
    "collapsed": false
   },
   "outputs": [
    {
     "name": "stdout",
     "output_type": "stream",
     "text": [
      "Results and logs for this run will be stored in:\n",
      "\ttemp\\quantum_2025-06-22_10-21-40\n",
      "\n"
     ]
    },
    {
     "name": "stderr",
     "output_type": "stream",
     "text": [
      "d:\\Projects_D\\Security Transaction Settlement\\Qu3ST\\venv\\Lib\\site-packages\\qiskit_ibm_runtime\\fake_provider\\local_service.py:243: UserWarning: Options {'dynamical_decoupling': {'enable': True, 'sequence_type': 'XpXm'}} have no effect in local testing mode.\n",
      "  warnings.warn(f\"Options {options_copy} have no effect in local testing mode.\")\n"
     ]
    },
    {
     "ename": "AttributeError",
     "evalue": "'PrimitiveJob' object has no attribute 'tags'",
     "output_type": "error",
     "traceback": [
      "\u001b[31m---------------------------------------------------------------------------\u001b[39m",
      "\u001b[31mAttributeError\u001b[39m                            Traceback (most recent call last)",
      "\u001b[36mCell\u001b[39m\u001b[36m \u001b[39m\u001b[32mIn[5]\u001b[39m\u001b[32m, line 57\u001b[39m\n\u001b[32m     54\u001b[39m \u001b[38;5;28;01mtry\u001b[39;00m:\n\u001b[32m     55\u001b[39m     \u001b[38;5;66;03m# compute solution and print summary\u001b[39;00m\n\u001b[32m     56\u001b[39m     x = NTSSolver(optimizer=\u001b[33m\"\u001b[39m\u001b[33mquantum\u001b[39m\u001b[33m\"\u001b[39m, **opt_config[\u001b[33m\"\u001b[39m\u001b[33mntsp\u001b[39m\u001b[33m\"\u001b[39m])\n\u001b[32m---> \u001b[39m\u001b[32m57\u001b[39m     mbd_result = \u001b[43mx\u001b[49m\u001b[43m.\u001b[49m\u001b[43moptimize\u001b[49m\u001b[43m(\u001b[49m\u001b[43mdata\u001b[49m\u001b[43m=\u001b[49m\u001b[43mf\u001b[49m\u001b[43m,\u001b[49m\u001b[43m \u001b[49m\u001b[43m*\u001b[49m\u001b[43m*\u001b[49m\u001b[43mopt_config\u001b[49m\u001b[43m[\u001b[49m\u001b[33;43m\"\u001b[39;49m\u001b[33;43msolver\u001b[39;49m\u001b[33;43m\"\u001b[39;49m\u001b[43m]\u001b[49m\u001b[43m)\u001b[49m\n\u001b[32m     58\u001b[39m     print_summary(mbd_result)\n\u001b[32m     59\u001b[39m     check_validity(solution=mbd_result, model=cplex_model, instance=instance)\n",
      "\u001b[36mFile \u001b[39m\u001b[32md:\\Projects_D\\Security Transaction Settlement\\Qu3ST\\qu3st\\nts_solver.py:140\u001b[39m, in \u001b[36mNTSSolver.optimize\u001b[39m\u001b[34m(self, data, instance, load, **kwargs)\u001b[39m\n\u001b[32m    137\u001b[39m     \u001b[38;5;28;01mreturn\u001b[39;00m ClassicalOptimizer(instance, **kwargs).solve(\n\u001b[32m    138\u001b[39m         res_path=\u001b[38;5;28mstr\u001b[39m(\u001b[38;5;28mself\u001b[39m.res_path))\n\u001b[32m    139\u001b[39m \u001b[38;5;28;01melif\u001b[39;00m \u001b[38;5;28mself\u001b[39m.optimizer == \u001b[33m'\u001b[39m\u001b[33mquantum\u001b[39m\u001b[33m'\u001b[39m:\n\u001b[32m--> \u001b[39m\u001b[32m140\u001b[39m     \u001b[38;5;28;01mreturn\u001b[39;00m \u001b[43mQuantumOptimizer\u001b[49m\u001b[43m(\u001b[49m\u001b[43minstance\u001b[49m\u001b[43m,\u001b[49m\u001b[43m \u001b[49m\u001b[43m*\u001b[49m\u001b[43m*\u001b[49m\u001b[43mkwargs\u001b[49m\u001b[43m)\u001b[49m\u001b[43m.\u001b[49m\u001b[43msolve\u001b[49m\u001b[43m(\u001b[49m\n\u001b[32m    141\u001b[39m \u001b[43m        \u001b[49m\u001b[43mres_path\u001b[49m\u001b[43m=\u001b[49m\u001b[38;5;28;43mself\u001b[39;49m\u001b[43m.\u001b[49m\u001b[43mres_path\u001b[49m\u001b[43m)\u001b[49m\n\u001b[32m    142\u001b[39m \u001b[38;5;28;01melif\u001b[39;00m \u001b[38;5;28mself\u001b[39m.optimizer == \u001b[33m'\u001b[39m\u001b[33msampler\u001b[39m\u001b[33m'\u001b[39m:\n\u001b[32m    143\u001b[39m     \u001b[38;5;28;01mreturn\u001b[39;00m SamplerOptimizer(instance, **kwargs).solve(\n\u001b[32m    144\u001b[39m         res_path=\u001b[38;5;28mstr\u001b[39m(\u001b[38;5;28mself\u001b[39m.res_path))\n",
      "\u001b[36mFile \u001b[39m\u001b[32md:\\Projects_D\\Security Transaction Settlement\\Qu3ST\\qu3st\\optimizers\\quantum\\quantum_optimizer.py:40\u001b[39m, in \u001b[36mQuantumOptimizer.solve\u001b[39m\u001b[34m(self, **kwargs)\u001b[39m\n\u001b[32m     38\u001b[39m \u001b[38;5;28;01mif\u001b[39;00m \u001b[38;5;28mself\u001b[39m.opt_mode == \u001b[33m\"\u001b[39m\u001b[33mMBD\u001b[39m\u001b[33m\"\u001b[39m:\n\u001b[32m     39\u001b[39m     logger.info(\u001b[33mf\u001b[39m\u001b[33m\"\u001b[39m\u001b[33mInitializing MBD optimization piepline...\u001b[39m\u001b[33m\"\u001b[39m)\n\u001b[32m---> \u001b[39m\u001b[32m40\u001b[39m     \u001b[38;5;28;01mreturn\u001b[39;00m \u001b[38;5;28;43mself\u001b[39;49m\u001b[43m.\u001b[49m\u001b[43msolveMBD\u001b[49m\u001b[43m(\u001b[49m\u001b[43m*\u001b[49m\u001b[43m*\u001b[49m\u001b[38;5;28;43mself\u001b[39;49m\u001b[43m.\u001b[49m\u001b[43mopt_options\u001b[49m\u001b[43m,\u001b[49m\u001b[43m \u001b[49m\u001b[43m*\u001b[49m\u001b[43m*\u001b[49m\u001b[43mkwargs\u001b[49m\u001b[43m)\u001b[49m\n\u001b[32m     41\u001b[39m \u001b[38;5;28;01mif\u001b[39;00m \u001b[38;5;28mself\u001b[39m.opt_mode == \u001b[33m\"\u001b[39m\u001b[33mQUEEN\u001b[39m\u001b[33m\"\u001b[39m:\n\u001b[32m     42\u001b[39m     logger.info(\u001b[33mf\u001b[39m\u001b[33m\"\u001b[39m\u001b[33mInitializing QUEEN optimization piepline...\u001b[39m\u001b[33m\"\u001b[39m)\n",
      "\u001b[36mFile \u001b[39m\u001b[32md:\\Projects_D\\Security Transaction Settlement\\Qu3ST\\qu3st\\optimizers\\quantum\\quantum_optimizer.py:161\u001b[39m, in \u001b[36mQuantumOptimizer.solveMBD\u001b[39m\u001b[34m(self, shots, ansatz, ansatz_options, backend, primitive, primitive_options, verbose, res_path, gamma, minimizer, minimizer_options, of_options, **kwargs)\u001b[39m\n\u001b[32m    151\u001b[39m mbd = MBDSolver(\n\u001b[32m    152\u001b[39m     primitive=prim,\n\u001b[32m    153\u001b[39m     ansatz=qc,\n\u001b[32m   (...)\u001b[39m\u001b[32m    158\u001b[39m     **kwargs\n\u001b[32m    159\u001b[39m )\n\u001b[32m    160\u001b[39m logger.info(\u001b[33mf\u001b[39m\u001b[33m\"\u001b[39m\u001b[33mMBDSolver initialization completed.\u001b[39m\u001b[33m\"\u001b[39m)\n\u001b[32m--> \u001b[39m\u001b[32m161\u001b[39m \u001b[38;5;28;01mreturn\u001b[39;00m \u001b[43mmbd\u001b[49m\u001b[43m.\u001b[49m\u001b[43msolve\u001b[49m\u001b[43m(\u001b[49m\n\u001b[32m    162\u001b[39m \u001b[43m    \u001b[49m\u001b[43minstance\u001b[49m\u001b[43m=\u001b[49m\u001b[38;5;28;43mself\u001b[39;49m\u001b[43m.\u001b[49m\u001b[43minstance\u001b[49m\u001b[43m,\u001b[49m\n\u001b[32m    163\u001b[39m \u001b[43m    \u001b[49m\u001b[43mverbose\u001b[49m\u001b[43m=\u001b[49m\u001b[43mverbose\u001b[49m\u001b[43m,\u001b[49m\n\u001b[32m    164\u001b[39m \u001b[43m    \u001b[49m\u001b[43mof_options\u001b[49m\u001b[43m=\u001b[49m\u001b[43mof_options\u001b[49m\u001b[43m,\u001b[49m\n\u001b[32m    165\u001b[39m \u001b[43m    \u001b[49m\u001b[43mpath\u001b[49m\u001b[43m=\u001b[49m\u001b[43mres_path\u001b[49m\u001b[43m,\u001b[49m\n\u001b[32m    166\u001b[39m \u001b[43m    \u001b[49m\u001b[43m*\u001b[49m\u001b[43m*\u001b[49m\u001b[43mminimizer_options\u001b[49m\n\u001b[32m    167\u001b[39m \u001b[43m\u001b[49m\u001b[43m)\u001b[49m\n",
      "\u001b[36mFile \u001b[39m\u001b[32md:\\Projects_D\\Security Transaction Settlement\\Qu3ST\\qu3st\\optimizers\\quantum\\mbd\\mbd_solver.py:298\u001b[39m, in \u001b[36mMBDSolver.solve\u001b[39m\u001b[34m(self, instance, maxiter, verbose, sd, of_options, **kwargs)\u001b[39m\n\u001b[32m    295\u001b[39m logger.info(\u001b[33m\"\u001b[39m\u001b[33mOptimization configuration done: starting \u001b[39m\u001b[33m\"\u001b[39m\n\u001b[32m    296\u001b[39m             \u001b[33m\"\u001b[39m\u001b[33moptimization loop...\u001b[39m\u001b[33m\"\u001b[39m)\n\u001b[32m    297\u001b[39m \u001b[38;5;28mself\u001b[39m.start_time = time()\n\u001b[32m--> \u001b[39m\u001b[32m298\u001b[39m optimizer_result = \u001b[38;5;28;43mself\u001b[39;49m\u001b[43m.\u001b[49m\u001b[43m_minimize_wrapper\u001b[49m\u001b[43m(\u001b[49m\n\u001b[32m    299\u001b[39m \u001b[43m    \u001b[49m\u001b[43mevaluate_energy\u001b[49m\u001b[43m,\u001b[49m\n\u001b[32m    300\u001b[39m \u001b[43m    \u001b[49m\u001b[43mmax_it\u001b[49m\u001b[43m=\u001b[49m\u001b[43mmaxiter\u001b[49m\n\u001b[32m    301\u001b[39m \u001b[43m\u001b[49m\u001b[43m)\u001b[49m\n\u001b[32m    302\u001b[39m optimizer_time = time() - \u001b[38;5;28mself\u001b[39m.start_time\n\u001b[32m    303\u001b[39m logger.info(\u001b[33m\"\u001b[39m\u001b[33mOptimization loop ended.\u001b[39m\u001b[33m\"\u001b[39m)\n",
      "\u001b[36mFile \u001b[39m\u001b[32md:\\Projects_D\\Security Transaction Settlement\\Qu3ST\\qu3st\\optimizers\\quantum\\mbd\\mbd_solver.py:253\u001b[39m, in \u001b[36mMBDSolver._minimize_wrapper\u001b[39m\u001b[34m(self, evaluate_energy, max_it)\u001b[39m\n\u001b[32m    249\u001b[39m     \u001b[38;5;28mself\u001b[39m.current_it -= \u001b[32m1\u001b[39m\n\u001b[32m    250\u001b[39m     logger.info(\u001b[33mf\u001b[39m\u001b[33m\"\u001b[39m\u001b[33mThe last iteration was partially computed: \u001b[39m\u001b[33m\"\u001b[39m\n\u001b[32m    251\u001b[39m                 \u001b[33mf\u001b[39m\u001b[33m\"\u001b[39m\u001b[33mrestarting from iteration \u001b[39m\u001b[38;5;132;01m{\u001b[39;00m\u001b[38;5;28mself\u001b[39m.current_it\u001b[38;5;132;01m}\u001b[39;00m\u001b[33m).\u001b[39m\u001b[33m\"\u001b[39m)\n\u001b[32m--> \u001b[39m\u001b[32m253\u001b[39m optimizer_result = \u001b[38;5;28;43mself\u001b[39;49m\u001b[43m.\u001b[49m\u001b[43moptimizer\u001b[49m\u001b[43m.\u001b[49m\u001b[43mminimize\u001b[49m\u001b[43m(\u001b[49m\n\u001b[32m    254\u001b[39m \u001b[43m    \u001b[49m\u001b[43mfun\u001b[49m\u001b[43m=\u001b[49m\u001b[43mevaluate_energy\u001b[49m\u001b[43m,\u001b[49m\n\u001b[32m    255\u001b[39m \u001b[43m    \u001b[49m\u001b[43mx0\u001b[49m\u001b[43m=\u001b[49m\u001b[38;5;28;43mself\u001b[39;49m\u001b[43m.\u001b[49m\u001b[43minitial_point\u001b[49m\u001b[43m,\u001b[49m\n\u001b[32m    256\u001b[39m \u001b[43m    \u001b[49m\u001b[43mprecomputed_steps\u001b[49m\u001b[43m=\u001b[49m\u001b[43mprecomputed_steps\u001b[49m\n\u001b[32m    257\u001b[39m \u001b[43m\u001b[49m\u001b[43m)\u001b[49m\n\u001b[32m    258\u001b[39m \u001b[38;5;28;01mreturn\u001b[39;00m optimizer_result\n",
      "\u001b[36mFile \u001b[39m\u001b[32md:\\Projects_D\\Security Transaction Settlement\\Qu3ST\\qu3st\\optimizers\\quantum\\minimizers\\bayesian_minimizer.py:120\u001b[39m, in \u001b[36mBayesianMinimizer.minimize\u001b[39m\u001b[34m(self, fun, x0, precomputed_steps, **kwargs)\u001b[39m\n\u001b[32m    117\u001b[39m             iteration -= \u001b[32m1\u001b[39m\n\u001b[32m    119\u001b[39m     logger.info(\u001b[33mf\u001b[39m\u001b[33m\"\u001b[39m\u001b[33mRegisterd \u001b[39m\u001b[38;5;132;01m{\u001b[39;00miteration\u001b[38;5;132;01m}\u001b[39;00m\u001b[33m points.\u001b[39m\u001b[33m\"\u001b[39m)\n\u001b[32m--> \u001b[39m\u001b[32m120\u001b[39m \u001b[38;5;28;01mreturn\u001b[39;00m \u001b[38;5;28;43mself\u001b[39;49m\u001b[43m.\u001b[49m\u001b[43mmaximize\u001b[49m\u001b[43m(\u001b[49m\u001b[43mn_iter\u001b[49m\u001b[43m=\u001b[49m\u001b[38;5;28;43mself\u001b[39;49m\u001b[43m.\u001b[49m\u001b[43mmaxiter\u001b[49m\u001b[43m,\u001b[49m\u001b[43m \u001b[49m\u001b[43miteration\u001b[49m\u001b[43m=\u001b[49m\u001b[43miteration\u001b[49m\u001b[43m,\u001b[49m\u001b[43m \u001b[49m\u001b[43m*\u001b[49m\u001b[43m*\u001b[49m\u001b[43mkwargs\u001b[49m\u001b[43m)\u001b[49m\n",
      "\u001b[36mFile \u001b[39m\u001b[32md:\\Projects_D\\Security Transaction Settlement\\Qu3ST\\qu3st\\optimizers\\quantum\\minimizers\\bayesian_minimizer.py:198\u001b[39m, in \u001b[36mBayesianMinimizer.maximize\u001b[39m\u001b[34m(self, init_points, n_iter, acq, kappa, kappa_decay, kappa_decay_delay, xi, iteration, **gp_params)\u001b[39m\n\u001b[32m    196\u001b[39m     x_probe = \u001b[38;5;28mself\u001b[39m.suggest(util)\n\u001b[32m    197\u001b[39m     iteration += \u001b[32m1\u001b[39m\n\u001b[32m--> \u001b[39m\u001b[32m198\u001b[39m \u001b[38;5;28;43mself\u001b[39;49m\u001b[43m.\u001b[49m\u001b[43mprobe\u001b[49m\u001b[43m(\u001b[49m\u001b[43mx_probe\u001b[49m\u001b[43m,\u001b[49m\u001b[43m \u001b[49m\u001b[43mlazy\u001b[49m\u001b[43m=\u001b[49m\u001b[38;5;28;43;01mFalse\u001b[39;49;00m\u001b[43m)\u001b[49m\n\u001b[32m    200\u001b[39m \u001b[38;5;28;01mif\u001b[39;00m \u001b[38;5;28mself\u001b[39m._bounds_transformer \u001b[38;5;129;01mand\u001b[39;00m iteration > \u001b[32m0\u001b[39m:\n\u001b[32m    201\u001b[39m     \u001b[38;5;66;03m# The bounds transformer should only modify the bounds after\u001b[39;00m\n\u001b[32m    202\u001b[39m     \u001b[38;5;66;03m# the init_points points (only for the true iterations)\u001b[39;00m\n\u001b[32m    203\u001b[39m     \u001b[38;5;28mself\u001b[39m.set_bounds(\n\u001b[32m    204\u001b[39m         \u001b[38;5;28mself\u001b[39m._bounds_transformer.transform(\u001b[38;5;28mself\u001b[39m._space))\n",
      "\u001b[36mFile \u001b[39m\u001b[32md:\\Projects_D\\Security Transaction Settlement\\Qu3ST\\venv\\Lib\\site-packages\\bayes_opt\\bayesian_optimization.py:245\u001b[39m, in \u001b[36mBayesianOptimization.probe\u001b[39m\u001b[34m(self, params, lazy)\u001b[39m\n\u001b[32m    243\u001b[39m     \u001b[38;5;28mself\u001b[39m._queue.add(params)\n\u001b[32m    244\u001b[39m \u001b[38;5;28;01melse\u001b[39;00m:\n\u001b[32m--> \u001b[39m\u001b[32m245\u001b[39m     \u001b[38;5;28;43mself\u001b[39;49m\u001b[43m.\u001b[49m\u001b[43m_space\u001b[49m\u001b[43m.\u001b[49m\u001b[43mprobe\u001b[49m\u001b[43m(\u001b[49m\u001b[43mparams\u001b[49m\u001b[43m)\u001b[49m\n\u001b[32m    246\u001b[39m     \u001b[38;5;28mself\u001b[39m.dispatch(Events.OPTIMIZATION_STEP)\n",
      "\u001b[36mFile \u001b[39m\u001b[32md:\\Projects_D\\Security Transaction Settlement\\Qu3ST\\venv\\Lib\\site-packages\\bayes_opt\\target_space.py:364\u001b[39m, in \u001b[36mTargetSpace.probe\u001b[39m\u001b[34m(self, params)\u001b[39m\n\u001b[32m    361\u001b[39m         \u001b[38;5;28;01mreturn\u001b[39;00m \u001b[38;5;28mself\u001b[39m._cache[_hashable(x.ravel())]\n\u001b[32m    363\u001b[39m params = \u001b[38;5;28mdict\u001b[39m(\u001b[38;5;28mzip\u001b[39m(\u001b[38;5;28mself\u001b[39m._keys, x))\n\u001b[32m--> \u001b[39m\u001b[32m364\u001b[39m target = \u001b[38;5;28;43mself\u001b[39;49m\u001b[43m.\u001b[49m\u001b[43mtarget_func\u001b[49m\u001b[43m(\u001b[49m\u001b[43m*\u001b[49m\u001b[43m*\u001b[49m\u001b[43mparams\u001b[49m\u001b[43m)\u001b[49m\n\u001b[32m    366\u001b[39m \u001b[38;5;28;01mif\u001b[39;00m \u001b[38;5;28mself\u001b[39m._constraint \u001b[38;5;129;01mis\u001b[39;00m \u001b[38;5;28;01mNone\u001b[39;00m:\n\u001b[32m    367\u001b[39m     \u001b[38;5;28mself\u001b[39m.register(x, target)\n",
      "\u001b[36mFile \u001b[39m\u001b[32md:\\Projects_D\\Security Transaction Settlement\\Qu3ST\\qu3st\\optimizers\\quantum\\minimizers\\bayesian_minimizer.py:62\u001b[39m, in \u001b[36mBayesianMinimizer._get_wrapped_function.<locals>.wf\u001b[39m\u001b[34m(**kwargs)\u001b[39m\n\u001b[32m     60\u001b[39m \u001b[38;5;28;01mdef\u001b[39;00m\u001b[38;5;250m \u001b[39m\u001b[34mwf\u001b[39m(**kwargs):\n\u001b[32m     61\u001b[39m     params = np.array([a \u001b[38;5;28;01mfor\u001b[39;00m _, a \u001b[38;5;129;01min\u001b[39;00m kwargs.items()])\n\u001b[32m---> \u001b[39m\u001b[32m62\u001b[39m     \u001b[38;5;28;01mreturn\u001b[39;00m -\u001b[43mf\u001b[49m\u001b[43m(\u001b[49m\u001b[43mparams\u001b[49m\u001b[43m)\u001b[49m\n",
      "\u001b[36mFile \u001b[39m\u001b[32md:\\Projects_D\\Security Transaction Settlement\\Qu3ST\\qu3st\\optimizers\\quantum\\mbd\\mbd_solver.py:175\u001b[39m, in \u001b[36mMBDSolver._get_evaluate_energy.<locals>.evaluate_energy_sampler\u001b[39m\u001b[34m(parameters)\u001b[39m\n\u001b[32m    169\u001b[39m \u001b[38;5;28;01melse\u001b[39;00m:\n\u001b[32m    170\u001b[39m     \u001b[38;5;28mself\u001b[39m.results_manager.save_iter_results(\n\u001b[32m    171\u001b[39m         \u001b[38;5;28mself\u001b[39m.best_measurement, \u001b[38;5;28;01mNone\u001b[39;00m, \u001b[38;5;28;01mNone\u001b[39;00m, \u001b[38;5;28;01mNone\u001b[39;00m,\n\u001b[32m    172\u001b[39m         [parameters, filtered_parameters], \u001b[38;5;28mself\u001b[39m.current_it\n\u001b[32m    173\u001b[39m     )\n\u001b[32m--> \u001b[39m\u001b[32m175\u001b[39m final_state, raw_state = \u001b[38;5;28;43mself\u001b[39;49m\u001b[43m.\u001b[49m\u001b[43mprimitive\u001b[49m\u001b[43m.\u001b[49m\u001b[43mrun\u001b[49m\u001b[43m(\u001b[49m\n\u001b[32m    176\u001b[39m \u001b[43m    \u001b[49m\u001b[38;5;28;43mself\u001b[39;49m\u001b[43m.\u001b[49m\u001b[43mansatz\u001b[49m\u001b[43m,\u001b[49m\n\u001b[32m    177\u001b[39m \u001b[43m    \u001b[49m\u001b[38;5;28;43mself\u001b[39;49m\u001b[43m.\u001b[49m\u001b[43mresults_manager\u001b[49m\u001b[43m,\u001b[49m\n\u001b[32m    178\u001b[39m \u001b[43m    \u001b[49m\u001b[43mfiltered_parameters\u001b[49m\u001b[43m,\u001b[49m\n\u001b[32m    179\u001b[39m \u001b[43m    \u001b[49m\u001b[43mshots\u001b[49m\u001b[43m=\u001b[49m\u001b[38;5;28;43mself\u001b[39;49m\u001b[43m.\u001b[49m\u001b[43mshots\u001b[49m\u001b[43m,\u001b[49m\n\u001b[32m    180\u001b[39m \u001b[43m    \u001b[49m\u001b[43mit\u001b[49m\u001b[43m=\u001b[49m\u001b[38;5;28;43mself\u001b[39;49m\u001b[43m.\u001b[49m\u001b[43mcurrent_it\u001b[49m\n\u001b[32m    181\u001b[39m \u001b[43m\u001b[49m\u001b[43m)\u001b[49m\n\u001b[32m    183\u001b[39m logger.info(\u001b[33m\"\u001b[39m\u001b[33mEvaluating probabilities...\u001b[39m\u001b[33m\"\u001b[39m)\n\u001b[32m    184\u001b[39m probabilities = np.zeros(\u001b[38;5;28mlen\u001b[39m(final_state.keys()))\n",
      "\u001b[36mFile \u001b[39m\u001b[32md:\\Projects_D\\Security Transaction Settlement\\Qu3ST\\qu3st\\optimizers\\quantum\\mbd\\primitives\\samplers.py:185\u001b[39m, in \u001b[36mCustomSampler.run\u001b[39m\u001b[34m(self, ansatz, result_manager, param, shots, it, name)\u001b[39m\n\u001b[32m    182\u001b[39m \u001b[38;5;28;01mif\u001b[39;00m \u001b[38;5;28mself\u001b[39m.mitigator.rem_check():\n\u001b[32m    183\u001b[39m     logger.info(\u001b[33m\"\u001b[39m\u001b[33mMitigation active: performing custom mitigation \u001b[39m\u001b[33m\"\u001b[39m\n\u001b[32m    184\u001b[39m                 \u001b[33m\"\u001b[39m\u001b[33mpipeline\u001b[39m\u001b[33m\"\u001b[39m)\n\u001b[32m--> \u001b[39m\u001b[32m185\u001b[39m     samples, raw_samples = \u001b[38;5;28;43mself\u001b[39;49m\u001b[43m.\u001b[49m\u001b[43mmitigator\u001b[49m\u001b[43m.\u001b[49m\u001b[43mapply_rem\u001b[49m\u001b[43m(\u001b[49m\n\u001b[32m    186\u001b[39m \u001b[43m        \u001b[49m\u001b[43mansatz\u001b[49m\u001b[43m,\u001b[49m\u001b[43m \u001b[49m\u001b[43mresult_manager\u001b[49m\u001b[43m,\u001b[49m\u001b[43m \u001b[49m\u001b[43mparam\u001b[49m\u001b[43m,\u001b[49m\u001b[43m \u001b[49m\u001b[43mshots\u001b[49m\u001b[43m,\u001b[49m\n\u001b[32m    187\u001b[39m \u001b[43m        \u001b[49m\u001b[43mit\u001b[49m\u001b[43m=\u001b[49m\u001b[43mit\u001b[49m\u001b[43m,\u001b[49m\u001b[43m \u001b[49m\u001b[43mname\u001b[49m\u001b[43m=\u001b[49m\u001b[43mname\u001b[49m\n\u001b[32m    188\u001b[39m \u001b[43m    \u001b[49m\u001b[43m)\u001b[49m\n\u001b[32m    189\u001b[39m \u001b[38;5;28;01melse\u001b[39;00m:\n\u001b[32m    190\u001b[39m     samples = \u001b[38;5;28mself\u001b[39m._run_experiment(\n\u001b[32m    191\u001b[39m         ansatz, param, shots, results_manager=result_manager, it=it\n\u001b[32m    192\u001b[39m     )\n",
      "\u001b[36mFile \u001b[39m\u001b[32md:\\Projects_D\\Security Transaction Settlement\\Qu3ST\\qu3st\\optimizers\\quantum\\mbd\\primitives\\mitigation\\probs_mitigator.py:134\u001b[39m, in \u001b[36mProbsMitigator.apply_rem\u001b[39m\u001b[34m(self, ansatz, results_manager, params, shots, it, name)\u001b[39m\n\u001b[32m    128\u001b[39m qc_transpiled = transpile(\n\u001b[32m    129\u001b[39m     ansatz, \u001b[38;5;28mself\u001b[39m.backend,\n\u001b[32m    130\u001b[39m     optimization_level=\u001b[38;5;28mself\u001b[39m.opt_level,\n\u001b[32m    131\u001b[39m     scheduling_method=\u001b[33m\"\u001b[39m\u001b[33masap\u001b[39m\u001b[33m\"\u001b[39m\n\u001b[32m    132\u001b[39m )\n\u001b[32m    133\u001b[39m \u001b[38;5;66;03m# get counts\u001b[39;00m\n\u001b[32m--> \u001b[39m\u001b[32m134\u001b[39m mitigation_count, physical_count = \u001b[43mrun_job\u001b[49m\u001b[43m(\u001b[49m\n\u001b[32m    135\u001b[39m \u001b[43m    \u001b[49m\u001b[43mqc\u001b[49m\u001b[43m=\u001b[49m\u001b[43mqc_transpiled\u001b[49m\u001b[43m,\u001b[49m\n\u001b[32m    136\u001b[39m \u001b[43m    \u001b[49m\u001b[43mparams_mit\u001b[49m\u001b[43m=\u001b[49m\u001b[43mparams_mit\u001b[49m\u001b[43m,\u001b[49m\n\u001b[32m    137\u001b[39m \u001b[43m    \u001b[49m\u001b[43mparams_state\u001b[49m\u001b[43m=\u001b[49m\u001b[43mparams\u001b[49m\u001b[43m,\u001b[49m\u001b[43m  \u001b[49m\u001b[38;5;66;43;03m# type: ignore\u001b[39;49;00m\n\u001b[32m    138\u001b[39m \u001b[43m    \u001b[49m\u001b[43mshots\u001b[49m\u001b[43m=\u001b[49m\u001b[43mshots\u001b[49m\u001b[43m,\u001b[49m\n\u001b[32m    139\u001b[39m \u001b[43m    \u001b[49m\u001b[43msampler\u001b[49m\u001b[43m=\u001b[49m\u001b[38;5;28;43mself\u001b[39;49m\u001b[43m.\u001b[49m\u001b[43msampler\u001b[49m\u001b[43m,\u001b[49m\u001b[43m  \u001b[49m\u001b[38;5;66;43;03m# type: ignore\u001b[39;49;00m\n\u001b[32m    140\u001b[39m \u001b[43m    \u001b[49m\u001b[43mservice\u001b[49m\u001b[43m=\u001b[49m\u001b[38;5;28;43mself\u001b[39;49m\u001b[43m.\u001b[49m\u001b[43mservice\u001b[49m\u001b[43m,\u001b[49m\u001b[43m  \u001b[49m\u001b[38;5;66;43;03m# type: ignore\u001b[39;49;00m\n\u001b[32m    141\u001b[39m \u001b[43m    \u001b[49m\u001b[43mresults_manager\u001b[49m\u001b[43m=\u001b[49m\u001b[43mresults_manager\u001b[49m\u001b[43m,\u001b[49m\n\u001b[32m    142\u001b[39m \u001b[43m    \u001b[49m\u001b[43mit\u001b[49m\u001b[43m=\u001b[49m\u001b[43mit\u001b[49m\n\u001b[32m    143\u001b[39m \u001b[43m\u001b[49m\u001b[43m)\u001b[49m\n\u001b[32m    144\u001b[39m results_manager.save_qcs_info(it, ansatz, qc_transpiled)\n\u001b[32m    145\u001b[39m results_manager.save_backend_info(it, \u001b[38;5;28mself\u001b[39m.backend)\n",
      "\u001b[36mFile \u001b[39m\u001b[32md:\\Projects_D\\Security Transaction Settlement\\Qu3ST\\qu3st\\optimizers\\quantum\\mbd\\primitives\\mitigation\\probs_mitigator.py:51\u001b[39m, in \u001b[36mrun_job\u001b[39m\u001b[34m(qc, params_mit, params_state, shots, sampler, service, results_manager, it)\u001b[39m\n\u001b[32m     48\u001b[39m         values = res[\u001b[33m\"\u001b[39m\u001b[33m__value__\u001b[39m\u001b[33m\"\u001b[39m][\u001b[33m\"\u001b[39m\u001b[33mdata\u001b[39m\u001b[33m\"\u001b[39m].values()\n\u001b[32m     49\u001b[39m     \u001b[38;5;28;01mreturn\u001b[39;00m values\n\u001b[32m---> \u001b[39m\u001b[32m51\u001b[39m job = \u001b[43mget_sampler_job\u001b[49m\u001b[43m(\u001b[49m\n\u001b[32m     52\u001b[39m \u001b[43m    \u001b[49m\u001b[43mservice\u001b[49m\u001b[43m,\u001b[49m\u001b[43m \u001b[49m\u001b[43msampler\u001b[49m\u001b[43m,\u001b[49m\u001b[43m \u001b[49m\u001b[43m[\u001b[49m\u001b[43m(\u001b[49m\u001b[43mqc\u001b[49m\u001b[43m,\u001b[49m\u001b[43m \u001b[49m\u001b[43mparams_mit\u001b[49m\u001b[43m)\u001b[49m\u001b[43m,\u001b[49m\u001b[43m \u001b[49m\u001b[43m(\u001b[49m\u001b[43mqc\u001b[49m\u001b[43m,\u001b[49m\u001b[43m \u001b[49m\u001b[43mparams_state\u001b[49m\u001b[43m)\u001b[49m\u001b[43m]\u001b[49m\u001b[43m,\u001b[49m\u001b[43m \u001b[49m\u001b[43mshots\u001b[49m\u001b[43m,\u001b[49m\n\u001b[32m     53\u001b[39m \u001b[43m    \u001b[49m\u001b[43mresults_manager\u001b[49m\u001b[43m,\u001b[49m\u001b[43m \u001b[49m\u001b[43mit\u001b[49m\u001b[43m)\u001b[49m\n\u001b[32m     54\u001b[39m results = job.result()\n\u001b[32m     55\u001b[39m res_mit = [\n\u001b[32m     56\u001b[39m     v.get_counts() \u001b[38;5;28;01mfor\u001b[39;00m v \u001b[38;5;129;01min\u001b[39;00m retrieve_values(results[\u001b[32m0\u001b[39m])][\u001b[32m0\u001b[39m]\n",
      "\u001b[36mFile \u001b[39m\u001b[32md:\\Projects_D\\Security Transaction Settlement\\Qu3ST\\qu3st\\optimizers\\quantum\\mbd\\primitives\\utils.py:118\u001b[39m, in \u001b[36mget_sampler_job\u001b[39m\u001b[34m(service, sampler, pubs, shots, results_manager, it)\u001b[39m\n\u001b[32m    116\u001b[39m \u001b[38;5;28;01mif\u001b[39;00m \u001b[38;5;28misinstance\u001b[39m(job, (RuntimeJobV2, RuntimeJob)):\n\u001b[32m    117\u001b[39m     job.update_tags([\u001b[33mf\u001b[39m\u001b[33m\"\u001b[39m\u001b[38;5;132;01m{\u001b[39;00mbase_tag\u001b[38;5;132;01m}\u001b[39;00m\u001b[33m_iteration_\u001b[39m\u001b[38;5;132;01m{\u001b[39;00mit\u001b[38;5;132;01m}\u001b[39;00m\u001b[33m\"\u001b[39m])\n\u001b[32m--> \u001b[39m\u001b[32m118\u001b[39m \u001b[43mupdate_job_result\u001b[49m\u001b[43m(\u001b[49m\u001b[43mjob\u001b[49m\u001b[43m,\u001b[49m\u001b[43m \u001b[49m\u001b[43mresults_manager\u001b[49m\u001b[43m,\u001b[49m\u001b[43m \u001b[49m\u001b[43mit\u001b[49m\u001b[43m,\u001b[49m\u001b[43m \u001b[49m\u001b[43mended\u001b[49m\u001b[43m=\u001b[49m\u001b[38;5;28;43;01mFalse\u001b[39;49;00m\u001b[43m)\u001b[49m\n\u001b[32m    119\u001b[39m \u001b[38;5;28;01mreturn\u001b[39;00m job\n",
      "\u001b[36mFile \u001b[39m\u001b[32md:\\Projects_D\\Security Transaction Settlement\\Qu3ST\\qu3st\\optimizers\\quantum\\mbd\\primitives\\utils.py:146\u001b[39m, in \u001b[36mupdate_job_result\u001b[39m\u001b[34m(job, results_manager, it, ended)\u001b[39m\n\u001b[32m    140\u001b[39m \u001b[38;5;28;01melse\u001b[39;00m:\n\u001b[32m    141\u001b[39m     tsmp_c, usage, time_queue = -\u001b[32m1\u001b[39m, -\u001b[32m1\u001b[39m, -\u001b[32m1\u001b[39m\n\u001b[32m    143\u001b[39m results_manager.save_job_data(\n\u001b[32m    144\u001b[39m     {\n\u001b[32m    145\u001b[39m         \u001b[33m\"\u001b[39m\u001b[33mid\u001b[39m\u001b[33m\"\u001b[39m: job.job_id(),\n\u001b[32m--> \u001b[39m\u001b[32m146\u001b[39m         \u001b[33m\"\u001b[39m\u001b[33mtag\u001b[39m\u001b[33m\"\u001b[39m: \u001b[43mjob\u001b[49m\u001b[43m.\u001b[49m\u001b[43mtags\u001b[49m,\n\u001b[32m    147\u001b[39m         \u001b[33m\"\u001b[39m\u001b[33mcreated\u001b[39m\u001b[33m\"\u001b[39m: tsmp_c,\n\u001b[32m    148\u001b[39m         \u001b[33m\"\u001b[39m\u001b[33mdevice_time\u001b[39m\u001b[33m\"\u001b[39m: usage,\n\u001b[32m    149\u001b[39m         \u001b[33m\"\u001b[39m\u001b[33mqueue_time\u001b[39m\u001b[33m\"\u001b[39m: time_queue,\n\u001b[32m    150\u001b[39m         \u001b[33m\"\u001b[39m\u001b[33mmetrics\u001b[39m\u001b[33m\"\u001b[39m: job.metrics(),\n\u001b[32m    151\u001b[39m     },\n\u001b[32m    152\u001b[39m     it \u001b[38;5;28;01mif\u001b[39;00m it \u001b[38;5;129;01mis\u001b[39;00m \u001b[38;5;129;01mnot\u001b[39;00m \u001b[38;5;28;01mNone\u001b[39;00m \u001b[38;5;28;01melse\u001b[39;00m -\u001b[32m1\u001b[39m,\n\u001b[32m    153\u001b[39m )\n",
      "\u001b[31mAttributeError\u001b[39m: 'PrimitiveJob' object has no attribute 'tags'"
     ]
    },
    {
     "data": {
      "text/plain": [
       "<Figure size 640x480 with 0 Axes>"
      ]
     },
     "metadata": {},
     "output_type": "display_data"
    },
    {
     "data": {
      "image/png": "[encoded data removed]",
      "text/plain": [
       "<Figure size 1800x800 with 1 Axes>"
      ]
     },
     "metadata": {},
     "output_type": "display_data"
    }
   ],
   "source": [
    "# initialize qtsa configuration\n",
    "opt_config = {\n",
    "    \"ntsp\": {\n",
    "        \"res_path\": str(root_path / \"temp\"),\n",
    "        \"sanitize\": False,\n",
    "        \"reload\": True,\n",
    "        \"mode\": \"json\"\n",
    "    },\n",
    "    \"solver\": {\n",
    "        \"opt_mode\": \"MBD\",\n",
    "        \"opt_options\": {\n",
    "            \"ansatz\": \"hardware_efficient\",\n",
    "            \"ansatz_options\": {\n",
    "                \"rep\": 2\n",
    "            },\n",
    "            \"backend\": \"fake\",\n",
    "            \"backend_options\": {\n",
    "                \"name\": \"fake_melbourne\"\n",
    "            },\n",
    "            \"primitive\": \"sampler\",\n",
    "            \"primitive_options\": {\n",
    "                \"mitigation_options\": {\n",
    "                    # \"calibration_lifetime\": 3600 * 3,\n",
    "                    \"dd\": {\"sequence_type\": \"XpXm\"},\n",
    "                    \"rem\": {\n",
    "                        \"hammer\": {\n",
    "                            \"mit_sample_mode\": \"zero\",\n",
    "                            \"iterative\": True,\n",
    "                            \"iter_weights\": False,\n",
    "                            \"max_hd\": None\n",
    "                        }\n",
    "                    }\n",
    "                }\n",
    "            },\n",
    "            \"shots\": 100,\n",
    "            \"verbose\": True,\n",
    "            \"gamma\": 1,\n",
    "            \"minimizer\": \"BAYESIAN\",\n",
    "            \"minimizer_options\": {\n",
    "                \"maxiter\": 25,\n",
    "                \"sd\": 0.2,\n",
    "                \"reload\": True,\n",
    "                \"log_file\": \"./tmp.log\",\n",
    "            },\n",
    "            \"of_options\": {\n",
    "                \"lam\": 0.5,\n",
    "                \"gamma\": 1,  # 10 ** -15,\n",
    "                \"activation_function\": \"relogist\",\n",
    "            }\n",
    "        }\n",
    "    }\n",
    "}\n",
    "\n",
    "try:\n",
    "    # compute solution and print summary\n",
    "    x = NTSSolver(optimizer=\"quantum\", **opt_config[\"ntsp\"])\n",
    "    mbd_result = x.optimize(data=f, **opt_config[\"solver\"])\n",
    "    print_summary(mbd_result)\n",
    "    check_validity(solution=mbd_result, model=cplex_model, instance=instance)\n",
    "except MemoryError:\n",
    "    print(\"NTS problem instance is too large.\")\n"
   ]
  }
 ],
 "metadata": {
  "kernelspec": {
   "display_name": "venv",
   "language": "python",
   "name": "python3"
  },
  "language_info": {
   "codemirror_mode": {
    "name": "ipython",
    "version": 3
   },
   "file_extension": ".py",
   "mimetype": "text/x-python",
   "name": "python",
   "nbconvert_exporter": "python",
   "pygments_lexer": "ipython3",
   "version": "3.11.9"
  }
 },
 "nbformat": 4,
 "nbformat_minor": 5
}
